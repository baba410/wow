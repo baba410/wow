{
 "cells": [
  {
   "cell_type": "code",
   "execution_count": 1,
   "metadata": {},
   "outputs": [],
   "source": [
    "%matplotlib inline\n",
    "import numpy as np\n",
    "import matplotlib.pyplot as plt"
   ]
  },
  {
   "cell_type": "markdown",
   "metadata": {},
   "source": [
    "# 消極siri"
   ]
  },
  {
   "cell_type": "code",
   "execution_count": 1,
   "metadata": {},
   "outputs": [
    {
     "name": "stdout",
     "output_type": "stream",
     "text": [
      "問問siri\n",
      "嘿siri要不要吃午餐?\n",
      "不要\n",
      "嘿siri想不想去夜唱\n",
      "不想\n",
      "嘿siri陪我上早八 好嗎?\n",
      "不好\n",
      "嘿siri你是不是Google派來的間諜?\n",
      "不是\n",
      "嘿siri會不會微積分\n",
      "不會\n",
      "嘿siri你有沒有wifi\n",
      "沒有\n",
      "嘿siri我帥嗎\n",
      "不!\n",
      "嘿siri我是誰?\n",
      "懶得回答你\n",
      "嘿siri掰掰\n",
      "終於擺脫你了\n"
     ]
    }
   ],
   "source": [
    "msg='嘿siri'\n",
    "print('問問siri')\n",
    "while(msg!='掰掰'):\n",
    "    msg=input('嘿siri')\n",
    "    if '要嗎' in msg:\n",
    "        print('不要')\n",
    "    elif '要不要' in msg:\n",
    "        print('不要')\n",
    "    elif '想嗎' in msg:\n",
    "        print('不想')\n",
    "    elif '想不想' in msg:\n",
    "        print('不想')   \n",
    "    elif '好嗎' in msg:\n",
    "        print('不好')\n",
    "    elif '好不好' in msg:\n",
    "        print('不好')\n",
    "    elif '是不是' in msg:\n",
    "        print('不是')\n",
    "    elif '是嗎' in msg:\n",
    "        print('不是')\n",
    "    elif '會不會' in msg:\n",
    "        print('不會')\n",
    "    elif '會嗎' in msg:\n",
    "        print('不會')\n",
    "    elif '有沒有' in msg:\n",
    "        print('沒有')\n",
    "    elif '有嗎' in msg:\n",
    "        print('沒有')\n",
    "    elif '嗎' in msg:\n",
    "        print('不!')\n",
    "    elif '?' in msg:\n",
    "        print('懶得回答你')\n",
    "    elif '掰掰' in msg:\n",
    "        print('終於擺脫你了')\n",
    "    else:\n",
    "        print('siri聽嘸')\n"
   ]
  },
  {
   "cell_type": "code",
   "execution_count": null,
   "metadata": {},
   "outputs": [],
   "source": []
  }
 ],
 "metadata": {
  "kernelspec": {
   "display_name": "Python 3",
   "language": "python",
   "name": "python3"
  },
  "language_info": {
   "codemirror_mode": {
    "name": "ipython",
    "version": 3
   },
   "file_extension": ".py",
   "mimetype": "text/x-python",
   "name": "python",
   "nbconvert_exporter": "python",
   "pygments_lexer": "ipython3",
   "version": "3.7.3"
  }
 },
 "nbformat": 4,
 "nbformat_minor": 2
}
