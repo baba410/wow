{
 "cells": [
  {
   "cell_type": "code",
   "execution_count": 2,
   "metadata": {},
   "outputs": [],
   "source": [
    "%matplotlib inline\n",
    "import numpy as np\n",
    "import matplotlib.pyplot as plt\n",
    "import pandas as pd"
   ]
  },
  {
   "cell_type": "code",
   "execution_count": 3,
   "metadata": {},
   "outputs": [],
   "source": [
    "from numpy.random import randint"
   ]
  },
  {
   "cell_type": "code",
   "execution_count": 4,
   "metadata": {},
   "outputs": [
    {
     "name": "stdout",
     "output_type": "stream",
     "text": [
      "2,2,2,2,8,1,3,3,9,6,"
     ]
    }
   ],
   "source": [
    "for i in range(10):\n",
    "    print(randint(1,10), end=',')"
   ]
  },
  {
   "cell_type": "code",
   "execution_count": 5,
   "metadata": {},
   "outputs": [],
   "source": [
    "words='''輕輕的\n",
    "我走了\n",
    "正如\n",
    "來\n",
    "招手\n",
    "作別\n",
    "西天的\n",
    "雲彩\n",
    "河畔的\n",
    "金柳\n",
    "夕陽中的\n",
    "新娘\n",
    "波光裡的\n",
    "艷影\n",
    "心頭\n",
    "蕩漾\n",
    "軟泥\n",
    "青荇\n",
    "悠悠的\n",
    "在水底招搖\n",
    "康河\n",
    "柔波\n",
    "水草\n",
    "榆蔭\n",
    "清泉\n",
    "天上虹\n",
    "揉碎\n",
    "浮藻\n",
    "沉澱\n",
    "彩虹似的夢\n",
    "'''"
   ]
  },
  {
   "cell_type": "code",
   "execution_count": 6,
   "metadata": {},
   "outputs": [
    {
     "name": "stdout",
     "output_type": "stream",
     "text": [
      "輕輕的\n",
      "我走了\n",
      "正如\n",
      "來\n",
      "招手\n",
      "作別\n",
      "西天的\n",
      "雲彩\n",
      "河畔的\n",
      "金柳\n",
      "夕陽中的\n",
      "新娘\n",
      "波光裡的\n",
      "艷影\n",
      "心頭\n",
      "蕩漾\n",
      "軟泥\n",
      "青荇\n",
      "悠悠的\n",
      "在水底招搖\n",
      "康河\n",
      "柔波\n",
      "水草\n",
      "榆蔭\n",
      "清泉\n",
      "天上虹\n",
      "揉碎\n",
      "浮藻\n",
      "沉澱\n",
      "彩虹似的夢\n",
      "\n"
     ]
    }
   ],
   "source": [
    "print(words)"
   ]
  },
  {
   "cell_type": "code",
   "execution_count": 7,
   "metadata": {},
   "outputs": [],
   "source": [
    "phrase=words.split('\\n')"
   ]
  },
  {
   "cell_type": "code",
   "execution_count": 8,
   "metadata": {},
   "outputs": [],
   "source": [
    "from numpy.random import choice"
   ]
  },
  {
   "cell_type": "code",
   "execution_count": 9,
   "metadata": {},
   "outputs": [
    {
     "data": {
      "text/plain": [
       "array(['天上虹', '', '蕩漾', '悠悠的', '心頭', '作別'], dtype='<U5')"
      ]
     },
     "execution_count": 9,
     "metadata": {},
     "output_type": "execute_result"
    }
   ],
   "source": [
    "choice(phrase,6)"
   ]
  },
  {
   "cell_type": "code",
   "execution_count": 10,
   "metadata": {},
   "outputs": [],
   "source": [
    "L=randint(3,6)"
   ]
  },
  {
   "cell_type": "code",
   "execution_count": 11,
   "metadata": {},
   "outputs": [
    {
     "name": "stdout",
     "output_type": "stream",
     "text": [
      "=\n",
      "=\n",
      "=\n"
     ]
    }
   ],
   "source": [
    "for i in range(L):\n",
    "    print('=')"
   ]
  },
  {
   "cell_type": "code",
   "execution_count": 12,
   "metadata": {},
   "outputs": [],
   "source": [
    "LL=randint(5,11)\n",
    "\n",
    "egg=choice(phrase,LL)"
   ]
  },
  {
   "cell_type": "code",
   "execution_count": 13,
   "metadata": {},
   "outputs": [
    {
     "data": {
      "text/plain": [
       "array(['正如', '我走了', '天上虹', '來', '悠悠的'], dtype='<U5')"
      ]
     },
     "execution_count": 13,
     "metadata": {},
     "output_type": "execute_result"
    }
   ],
   "source": [
    "egg"
   ]
  },
  {
   "cell_type": "code",
   "execution_count": 14,
   "metadata": {},
   "outputs": [
    {
     "data": {
      "text/plain": [
       "'正如 我走了 天上虹 來 悠悠的'"
      ]
     },
     "execution_count": 14,
     "metadata": {},
     "output_type": "execute_result"
    }
   ],
   "source": [
    "' '.join(egg)"
   ]
  },
  {
   "cell_type": "code",
   "execution_count": 15,
   "metadata": {},
   "outputs": [
    {
     "name": "stdout",
     "output_type": "stream",
     "text": [
      "康河 河畔的 青荇 蕩漾 金柳 悠悠的\n",
      "作別 夕陽中的   浮藻 招手 波光裡的\n",
      "作別 榆蔭 我走了 新娘 正如\n",
      "輕輕的 在水底招搖 心頭 悠悠的 招手 新娘 心頭\n"
     ]
    }
   ],
   "source": [
    "n=randint(3,6)\n",
    "\n",
    "for i in range(n):\n",
    "    k=randint(5,8)\n",
    "    egg=choice(phrase,k)\n",
    "    ham=' '.join(egg)\n",
    "    print(ham)"
   ]
  },
  {
   "cell_type": "code",
   "execution_count": 16,
   "metadata": {},
   "outputs": [],
   "source": [
    "#2 87 3 84 86 94"
   ]
  },
  {
   "cell_type": "code",
   "execution_count": 18,
   "metadata": {},
   "outputs": [
    {
     "name": "stdout",
     "output_type": "stream",
     "text": [
      "File `poem.py` exists. Overwrite (y/[N])?  y\n",
      "The following commands were written to file `poem.py`:\n",
      "get_ipython().run_line_magic('matplotlib', 'inline')\n",
      "import numpy as np\n",
      "import matplotlib.pyplot as plt\n",
      "import pandas as pd\n",
      "from numpy.random import randint\n"
     ]
    }
   ],
   "source": [
    "%save \"poem.py\" 2 87 3 84 86 94"
   ]
  },
  {
   "cell_type": "code",
   "execution_count": null,
   "metadata": {},
   "outputs": [],
   "source": []
  }
 ],
 "metadata": {
  "kernelspec": {
   "display_name": "Python 3",
   "language": "python",
   "name": "python3"
  },
  "language_info": {
   "codemirror_mode": {
    "name": "ipython",
    "version": 3
   },
   "file_extension": ".py",
   "mimetype": "text/x-python",
   "name": "python",
   "nbconvert_exporter": "python",
   "pygments_lexer": "ipython3",
   "version": "3.7.3"
  }
 },
 "nbformat": 4,
 "nbformat_minor": 2
}
